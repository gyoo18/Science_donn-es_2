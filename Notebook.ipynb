{
 "cells": [
  {
   "cell_type": "code",
   "execution_count": null,
   "id": "initial_id",
   "metadata": {
    "collapsed": true
   },
   "outputs": [],
   "source": [
    "import pandas as pd\n",
    "import matplotlib.pyplot as plt\n",
    "import seaborn as sns\n",
    "import numpy as np\n",
    "from pyspark.sql import SparkSession\n",
    "from pyspark.sql import functions as f\n",
    "from pyspark.ml.feature import VectorAssembler\n",
    "from pyspark.ml.regression import LinearRegression"
   ]
  },
  {
   "cell_type": "code",
   "execution_count": null,
   "outputs": [],
   "source": [
    "# Créer une session Spark\n",
    "spark = SparkSession.builder.appName(\"Projet2_RegressionLineaire\").getOrCreate()"
   ],
   "metadata": {
    "collapsed": false
   },
   "id": "f5ec30e206a39049"
  },
  {
   "cell_type": "raw",
   "source": [
    "1. Collecte des données"
   ],
   "metadata": {
    "collapsed": false
   },
   "id": "6b8b4b77cfb27f9b"
  },
  {
   "cell_type": "code",
   "execution_count": null,
   "outputs": [],
   "source": [
    "# Charger les données du fichier csv dans un dataframe\n",
    "df = spark.read.csv(\"gold1.csv\", header=True, inferSchema=True)"
   ],
   "metadata": {
    "collapsed": false
   },
   "id": "35c9c1f6d876e850"
  },
  {
   "cell_type": "raw",
   "source": [
    "2. Prétraitement des données"
   ],
   "metadata": {
    "collapsed": false
   },
   "id": "cad92c3b5ebd5135"
  },
  {
   "cell_type": "code",
   "execution_count": null,
   "outputs": [],
   "source": [
    "# Afficher le schéma du dataframe\n",
    "df.printSchema()\n",
    "\n",
    "# Afficher un résumé statistique des colonnes du dataframe\n",
    "df.describe().show()\n",
    "df.count()\n",
    "\n",
    "# Afficher les 5 premières lignes du dataframe\n",
    "df.show(5)\n",
    "\n",
    "# Afficher le nombre de valeurs manquantes dans chaque colonne\n",
    "df.select([sum(f.col(c).isNull().cast(\"int\")).alias(c) for c in df.columns]).show()\n",
    "#df = df.na.drop() # supprime les lignes avec des valeurs manquantes dans le dataframe (pas besoin pour notre dataset)\n",
    "\n",
    "# Afficher le nombre duplicatas dans le dataframe\n",
    "lignes_dupliquees = df.groupby(df.columns).agg(f.count(\"*\").alias(\"compte\")).filter(\"compte > 1\") # récupère toutes les lignes dupliquées\n",
    "lignes_dupliquees = lignes_dupliquees.withColumn('nb_duplicatas', f.col(\"compte\") - 1) # ajoute une colonne qui compte le nombre de duplicatas pour chaque ligne (on soustrait 1 car il y a une ligne qui faudra garder pour chaque groupe de duplicatas)\n",
    "lignes_dupliquees.select(f.sum(\"nb_duplicatas\").alias(\"nb_total_duplicatas\")).show()\n",
    "#df = df.dropDuplicates() # supprime les duplicatas dans le dataframe (pas besoin pour notre dataset)\n",
    "\n",
    "# Convertir la colonne Date de type date en un format numérique (timestamp)\n",
    "df = df.withColumn(\"Date_Timestamp\",df[\"Date\"].cast(\"Date\"))\n",
    "df = df.withColumn(\"Date_Timestamp\",f.unix_timestamp(df[\"Date_Timestamp\"]))\n",
    "df = df.withColumn(\"Close\",df[\"Close\"])"
   ],
   "metadata": {
    "collapsed": false
   },
   "id": "4549dcaa73077cdb"
  },
  {
   "cell_type": "raw",
   "source": [
    "3. Analyse exploratoire"
   ],
   "metadata": {
    "collapsed": false
   },
   "id": "9d44457c5e2a4568"
  },
  {
   "cell_type": "code",
   "execution_count": null,
   "outputs": [],
   "source": [
    "# Convertir le dataframe pyspark en dataframe pandas pour la visualisation\n",
    "df_pandas = df.toPandas()\n",
    "\n",
    "# Créer une matrice des corrélations entre les variables\n",
    "df_pandas_donnees_numeriques = df_pandas.select_dtypes(include=[\"number\"])\n",
    "matrice_de_correlations = df_pandas_donnees_numeriques.corr()\n",
    "sns.heatmap(matrice_de_correlations, annot=True, cmap='coolwarm')\n",
    "plt.title('Corrélations entre les variables')\n",
    "plt.show()\n",
    "\n",
    "# Créer un graphique Prix selon Date (lineplot)\n",
    "plt.figure(figsize=(10,6))\n",
    "plt.plot(df_pandas[\"Date_Timestamp\"], df_pandas[\"Close\"])\n",
    "plt.xlabel(\"Date\")\n",
    "plt.ylabel(\"Prix\")\n",
    "plt.show()"
   ],
   "metadata": {
    "collapsed": false
   },
   "id": "e1dff6d8fb661266"
  },
  {
   "cell_type": "raw",
   "source": [
    "4. Modélisation"
   ],
   "metadata": {
    "collapsed": false
   },
   "id": "1e384c8cf48ca071"
  },
  {
   "cell_type": "code",
   "execution_count": null,
   "outputs": [],
   "source": [
    "# Préparation des données pour le modèle\n",
    "assembler = VectorAssembler(inputCols=[\"Date_Timestamp\"], outputCol=\"features\")\n",
    "data_ready = assembler.transform(df).select(\"features\", \"Close\").withColumnRenamed(\"Close\", \"label\")\n",
    "\n",
    "# Diviser les données du dataframe en données d'entrainement (80%) et de test (20%)\n",
    "train_data, test_data = data_ready.randomSplit([0.8,0.2],seed=5)\n",
    "\n",
    "# Créer un modèle de régression linéaire et l'entrainer avec les données d'entrainement\n",
    "lr = LinearRegression(featuresCol=\"features\",labelCol=\"label\")\n",
    "lr_model = lr.fit(train_data)\n",
    "\n",
    "# Effectuer des prédictions avec les données de test \n",
    "test_predictions = lr_model.transform(test_data)\n",
    "test_predictions.select(\"features\",\"label\",\"prediction\").show()"
   ],
   "metadata": {
    "collapsed": false
   },
   "id": "be6b7d6fb6f269a6"
  },
  {
   "cell_type": "raw",
   "source": [
    "5. Évaluation du modèle"
   ],
   "metadata": {
    "collapsed": false
   },
   "id": "6951a2df2134a205"
  },
  {
   "cell_type": "code",
   "execution_count": null,
   "outputs": [],
   "source": [
    "# Calculer les métriques d'évaluation du modèle\n",
    "test_evaluation = lr_model.evaluate(test_data)\n",
    "print(\".\")\n",
    "print(\"Erreur quadratique moyenne (MSE)\",test_evaluation.meanSquaredError)\n",
    "print(\"Erreur absolue moyenne (MAE)\", test_evaluation.meanAbsoluteError)\n",
    "print(\"Coefficient de Détermination (R2)\", test_evaluation.r2)"
   ],
   "metadata": {
    "collapsed": false
   },
   "id": "856e1f398745141d"
  },
  {
   "cell_type": "raw",
   "source": [
    "6. Visualisation des résultats"
   ],
   "metadata": {
    "collapsed": false
   },
   "id": "dea518acd9d44e4f"
  },
  {
   "cell_type": "code",
   "execution_count": null,
   "outputs": [],
   "source": [
    "# Transformer les données d'entrainement et de test sous format panda\n",
    "resultats_entrainement_pandas = train_data.select(\"features\",\"label\").toPandas()\n",
    "resultats_test_pandas = test_predictions.select(\"features\",\"label\", \"prediction\").toPandas()\n",
    "\n",
    "# Extraire les dates (timestamp)\n",
    "resultats_entrainement_pandas[\"Date_Timestamp\"] = resultats_entrainement_pandas[\"features\"].apply(lambda x: x[0])\n",
    "resultats_test_pandas[\"Date_Timestamp\"] = resultats_test_pandas[\"features\"].apply(lambda x: x[0])\n",
    "\n",
    "# Créer le graphique pour visualiser les résultats\n",
    "plt.figure(figsize=(10,6))\n",
    "\n",
    "plt.scatter(resultats_entrainement_pandas[\"Date_Timestamp\"], resultats_entrainement_pandas[\"label\"], color='blue', label = \"Données d'entrainement\")\n",
    "plt.scatter(resultats_test_pandas[\"Date_Timestamp\"],resultats_test_pandas[\"label\"], color=\"green\", label = \"Données de test réelles\")\n",
    "plt.scatter(resultats_test_pandas[\"Date_Timestamp\"], resultats_test_pandas[\"prediction\"], color=\"orange\", marker=\"x\", label=\"Prédictions\")\n",
    "\n",
    "x_line = np.linspace(df.select(\"Date_Timestamp\").rdd.min()[0],df.select(\"Date_Timestamp\").rdd.max()[0], 100)\n",
    "y_line = lr_model.coefficients[0] * x_line + lr_model.intercept\n",
    "\n",
    "plt.plot(x_line,y_line, color = \"red\",label= \"Droite de régression\")\n",
    "plt.xlabel(\"Date\")\n",
    "plt.ylabel(\"Prix\")\n",
    "plt.title(\"Régression linéaire du Prix en fonction de la Date\")\n",
    "plt.legend()\n",
    "plt.show() "
   ],
   "metadata": {
    "collapsed": false
   },
   "id": "d88b14c2c5d3df87"
  }
 ],
 "metadata": {
  "kernelspec": {
   "display_name": "Python 3",
   "language": "python",
   "name": "python3"
  },
  "language_info": {
   "codemirror_mode": {
    "name": "ipython",
    "version": 2
   },
   "file_extension": ".py",
   "mimetype": "text/x-python",
   "name": "python",
   "nbconvert_exporter": "python",
   "pygments_lexer": "ipython2",
   "version": "2.7.6"
  }
 },
 "nbformat": 4,
 "nbformat_minor": 5
}
